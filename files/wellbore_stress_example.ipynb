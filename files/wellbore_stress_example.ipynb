{
 "metadata": {
  "kernelspec": {
   "display_name": "Python 3",
   "language": "python",
   "name": "python3"
  },
  "language_info": {
   "codemirror_mode": {
    "name": "ipython",
    "version": 3
   },
   "file_extension": ".py",
   "mimetype": "text/x-python",
   "name": "python",
   "nbconvert_exporter": "python",
   "pygments_lexer": "ipython3",
   "version": "3.4.0"
  },
  "name": "",
  "signature": "sha256:5d4a77c377aac80c8268ab00c377907600951e86dd2896f42abd8761a7af9f98"
 },
 "nbformat": 3,
 "nbformat_minor": 0,
 "worksheets": [
  {
   "cells": [
    {
     "cell_type": "code",
     "collapsed": false,
     "input": [
      "import numpy as np\n",
      "\n",
      "\n",
      "def compute_Sg(S, angles=(0,0,0)):\n",
      "    \n",
      "    alpha, beta, gamma = np.radians(angles)\n",
      "    \n",
      "    Rg = np.array([[np.cos(alpha) * np.cos(beta),  \n",
      "                    np.sin(alpha) * np.cos(beta),  \n",
      "                    -np.sin(beta)],\n",
      "                   [np.cos(alpha) * np.sin(beta) * np.sin(gamma) - np.sin(alpha) * np.cos(gamma), \n",
      "                    np.sin(alpha) * np.sin(beta) * np.sin(gamma) + np.cos(alpha) * np.cos(gamma),  \n",
      "                    np.cos(beta) * np.sin(gamma)],\n",
      "                   [np.cos(alpha) * np.sin(beta) * np.cos(gamma) + np.sin(alpha) * np.sin(gamma), \n",
      "                    np.sin(alpha) * np.sin(beta) * np.cos(gamma) - np.cos(alpha) * np.sin(gamma),  \n",
      "                    np.cos(beta) * np.cos(gamma)]])\n",
      "                  \n",
      "    return np.dot(Rg.T, np.dot(S,Rg))\n",
      "\n",
      "\n",
      "def compute_Sb(S, angles_G=(0,0,0), angles_B=(0,0)):\n",
      "    \n",
      "    delta, phi = np.radians(angles_B)\n",
      "    \n",
      "    Rb = np.array([[ np.cos(delta) * np.cos(phi),  np.sin(delta) * np.cos(phi), -np.sin(phi)],\n",
      "                   [ -np.sin(delta), np.cos(delta),  0.0],\n",
      "                   [ np.cos(delta) * np.sin(phi), np.sin(delta) * np.sin(phi), np.cos(phi)]])\n",
      "    \n",
      "    Sg = compute_Sg(S, angles_G)\n",
      "    \n",
      "    return np.dot(Rb, np.dot(Sg,Rb.T))\n",
      "\n",
      "\n",
      "def compute_wellbore_stress(Sb_eff, nu, theta, DP):\n",
      "    \n",
      "    theta = np.radians(theta)\n",
      "    \n",
      "    sZZ = (S[2,2] -  2. * nu * (S[0,0] - S[1,1]) * np.cos(2 * theta) - \n",
      "           4. * nu * S[0,1] * np.sin(2 * theta))\n",
      "    \n",
      "    stt = (S[0,0] + S[1,1] - 2. * (S[0,0] - S[1,1]) * np.cos(2 * theta) - \n",
      "           4 * S[0,1] * np.sin(2. * theta) - DP)\n",
      "    \n",
      "    ttz = 2. * (S[1,2] * np.cos(theta) - S[0,2] * np.sin(theta))\n",
      "    \n",
      "    srr = DP\n",
      "    \n",
      "    return (sZZ, stt, ttz, srr)\n",
      "\n",
      "\n",
      "def compute_max_tangent_stress(Sb_eff, nu, theta, DP):\n",
      "    \n",
      "    sZZ, stt, ttz, srr = compute_wellbore_stress(Sb_eff, nu, theta, DP)\n",
      "    \n",
      "    return 0.5 * (sZZ + stt + np.sqrt((sZZ - stt) ** 2. + 4.0 * ttz ** 2.))\n",
      "\n",
      "\n",
      "def compute_min_tangent_stress(Sb_eff, nu, theta, DP):\n",
      "    \n",
      "    sZZ, stt, ttz, srr = compute_wellbore_stress(Sb_eff, nu, theta, DP)\n",
      "    \n",
      "    return 0.5 * (sZZ + stt - np.sqrt((sZZ - stt) ** 2. + 4.0 * ttz ** 2.))"
     ],
     "language": "python",
     "metadata": {},
     "outputs": [],
     "prompt_number": 1
    },
    {
     "cell_type": "code",
     "collapsed": true,
     "input": [
      "S = np.array([[30, 0, 0],[0,25,0],[0,0,20]])\n",
      "\n",
      "Sb = compute_Sb(S, angles_G=(90,0,0), angles_B=(20,20))"
     ],
     "language": "python",
     "metadata": {},
     "outputs": [],
     "prompt_number": 2
    },
    {
     "cell_type": "code",
     "collapsed": false,
     "input": [
      "Sb"
     ],
     "language": "python",
     "metadata": {},
     "outputs": [
      {
       "metadata": {},
       "output_type": "pyout",
       "prompt_number": 3,
       "text": [
        "array([[ 24.931581  ,   1.51005693,   1.79494869],\n",
        "       [  1.51005693,  29.41511111,   0.54961578],\n",
        "       [  1.79494869,   0.54961578,  20.6533079 ]])"
       ]
      }
     ],
     "prompt_number": 3
    },
    {
     "cell_type": "code",
     "collapsed": true,
     "input": [
      "Sb_eff = S - 20 * np.eye(3)"
     ],
     "language": "python",
     "metadata": {},
     "outputs": [],
     "prompt_number": 4
    },
    {
     "cell_type": "code",
     "collapsed": true,
     "input": [
      "smin = compute_min_tangent_stress(Sb_eff, 0.2, 0.0, 20)"
     ],
     "language": "python",
     "metadata": {},
     "outputs": [],
     "prompt_number": 5
    },
    {
     "cell_type": "code",
     "collapsed": false,
     "input": [
      "smin"
     ],
     "language": "python",
     "metadata": {},
     "outputs": [
      {
       "metadata": {},
       "output_type": "pyout",
       "prompt_number": 6,
       "text": [
        "18.0"
       ]
      }
     ],
     "prompt_number": 6
    },
    {
     "cell_type": "code",
     "collapsed": true,
     "input": [
      "smax = compute_max_tangent_stress(Sb_eff, 0.2, 0.0, 20)"
     ],
     "language": "python",
     "metadata": {},
     "outputs": [],
     "prompt_number": 7
    },
    {
     "cell_type": "code",
     "collapsed": false,
     "input": [
      "smax"
     ],
     "language": "python",
     "metadata": {},
     "outputs": [
      {
       "metadata": {},
       "output_type": "pyout",
       "prompt_number": 8,
       "text": [
        "25.0"
       ]
      }
     ],
     "prompt_number": 8
    },
    {
     "cell_type": "code",
     "collapsed": true,
     "input": [
      "theta = np.linspace(0,360,num=100)"
     ],
     "language": "python",
     "metadata": {},
     "outputs": [],
     "prompt_number": 9
    },
    {
     "cell_type": "code",
     "collapsed": true,
     "input": [
      "smax = np.array([ compute_max_tangent_stress(Sb_eff, 0.2, i, 20) for i in theta])"
     ],
     "language": "python",
     "metadata": {},
     "outputs": [],
     "prompt_number": 10
    },
    {
     "cell_type": "code",
     "collapsed": false,
     "input": [
      "smax"
     ],
     "language": "python",
     "metadata": {},
     "outputs": [
      {
       "metadata": {},
       "output_type": "pyout",
       "prompt_number": 11,
       "text": [
        "array([ 25.        ,  25.08045187,  25.32051299,  25.71632067,\n",
        "        26.26150623,  26.94729742,  27.76265962,  28.69447333,\n",
        "        29.72774532,  30.84584987,  32.03079625,  33.26351822,\n",
        "        34.52418084,  35.79249957,  37.04806668,  38.27067963,\n",
        "        39.44066613,  40.53920064,  41.54860734,  42.4526445 ,\n",
        "        43.23676581,  43.88835449,  44.39692621,  44.75429787,\n",
        "        44.95471923,  44.99496542,  44.87438889,  44.59492974,\n",
        "        44.16108457,  43.57983413,  42.86053095,  42.01474888,\n",
        "        41.05609687,  40.        ,  38.86345126,  37.66473814,\n",
        "        36.42314838,  35.15865964,  33.891618  ,  32.64241064,\n",
        "        31.43113778,  30.27728925,  29.1994309 ,  28.21490588,\n",
        "        27.33955557,  26.58746467,  25.97073462,  25.49928882,\n",
        "        25.18071303,  25.02013324,  25.02013324,  25.18071303,\n",
        "        25.49928882,  25.97073462,  26.58746467,  27.33955557,\n",
        "        28.21490588,  29.1994309 ,  30.27728925,  31.43113778,\n",
        "        32.64241064,  33.891618  ,  35.15865964,  36.42314838,\n",
        "        37.66473814,  38.86345126,  40.        ,  41.05609687,\n",
        "        42.01474888,  42.86053095,  43.57983413,  44.16108457,\n",
        "        44.59492974,  44.87438889,  44.99496542,  44.95471923,\n",
        "        44.75429787,  44.39692621,  43.88835449,  43.23676581,\n",
        "        42.4526445 ,  41.54860734,  40.53920064,  39.44066613,\n",
        "        38.27067963,  37.04806668,  35.79249957,  34.52418084,\n",
        "        33.26351822,  32.03079625,  30.84584987,  29.72774532,\n",
        "        28.69447333,  27.76265962,  26.94729742,  26.26150623,\n",
        "        25.71632067,  25.32051299,  25.08045187,  25.        ])"
       ]
      }
     ],
     "prompt_number": 11
    },
    {
     "cell_type": "code",
     "collapsed": false,
     "input": [
      "%matplotlib inline\n",
      "import matplotlib.pyplot as plt\n",
      "\n",
      "plt.plot(theta, smax)"
     ],
     "language": "python",
     "metadata": {},
     "outputs": [
      {
       "metadata": {},
       "output_type": "pyout",
       "prompt_number": 12,
       "text": [
        "[<matplotlib.lines.Line2D at 0x10e1bf490>]"
       ]
      },
      {
       "metadata": {},
       "output_type": "display_data",
       "png": "[encoded data removed]",
       "text": [
        "<matplotlib.figure.Figure at 0x10e088190>"
       ]
      }
     ],
     "prompt_number": 12
    }
   ],
   "metadata": {}
  }
 ]
}