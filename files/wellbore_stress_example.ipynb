{
 "metadata": {
  "kernelspec": {
   "display_name": "Python 3",
   "language": "python",
   "name": "python3"
  },
  "language_info": {
   "codemirror_mode": {
    "name": "ipython",
    "version": 3
   },
   "file_extension": ".py",
   "mimetype": "text/x-python",
   "name": "python",
   "nbconvert_exporter": "python",
   "pygments_lexer": "ipython3",
   "version": "3.4.0"
  },
  "name": "",
  "signature": "sha256:53c89698d48ab150430d6d54e7f434657ded437ebc61020f5d04e31e56fb02a9"
 },
 "nbformat": 3,
 "nbformat_minor": 0,
 "worksheets": [
  {
   "cells": [
    {
     "cell_type": "code",
     "collapsed": false,
     "input": [
      "import numpy as np\n",
      "\n",
      "\n",
      "def compute_Sg(S, angles=(0,0,0)):\n",
      "    \n",
      "    alpha, beta, gamma = np.radians(angles)\n",
      "    \n",
      "    Rg = np.array([[np.cos(alpha) * np.cos(beta),  \n",
      "                    np.sin(alpha) * np.cos(beta),  \n",
      "                    -np.sin(beta)],\n",
      "                   [np.cos(alpha) * np.sin(beta) * np.sin(gamma) - np.sin(alpha) * np.cos(gamma), \n",
      "                    np.sin(alpha) * np.sin(beta) * np.sin(gamma) + np.cos(alpha) * np.cos(gamma),  \n",
      "                    np.cos(beta) * np.sin(gamma)],\n",
      "                   [np.cos(alpha) * np.sin(beta) * np.cos(gamma) + np.sin(alpha) * np.sin(gamma), \n",
      "                    np.sin(alpha) * np.sin(beta) * np.cos(gamma) - np.cos(alpha) * np.sin(gamma),  \n",
      "                    np.cos(beta) * np.cos(gamma)]])\n",
      "                  \n",
      "    return np.dot(Rg.T, np.dot(S,Rg))\n",
      "\n",
      "\n",
      "def compute_Sb(S, angles_G=(0,0,0), angles_B=(0,0)):\n",
      "    \n",
      "    delta, phi = np.radians(angles_B)\n",
      "    \n",
      "    Rb = np.array([[ np.cos(delta) * np.cos(phi),  np.sin(delta) * np.cos(phi), -np.sin(phi)],\n",
      "                   [ -np.sin(delta), np.cos(delta),  0.0],\n",
      "                   [ np.cos(delta) * np.sin(phi), np.sin(delta) * np.sin(phi), np.cos(phi)]])\n",
      "    \n",
      "    Sg = compute_Sg(S, angles_G)\n",
      "    \n",
      "    return np.dot(Rb, np.dot(Sg,Rb.T))\n",
      "\n",
      "\n",
      "def compute_wellbore_stress(S, nu, theta, DP):\n",
      "    \n",
      "    theta = np.radians(theta)\n",
      "    \n",
      "    sZZ = (S[2,2] -  2. * nu * (S[0,0] - S[1,1]) * np.cos(2 * theta) - \n",
      "           4. * nu * S[0,1] * np.sin(2 * theta))\n",
      "    \n",
      "    stt = (S[0,0] + S[1,1] - 2. * (S[0,0] - S[1,1]) * np.cos(2 * theta) - \n",
      "           4 * S[0,1] * np.sin(2. * theta) - DP)\n",
      "    \n",
      "    ttz = 2. * (S[1,2] * np.cos(theta) - S[0,2] * np.sin(theta))\n",
      "    \n",
      "    srr = DP\n",
      "    \n",
      "    return (sZZ, stt, ttz, srr)\n",
      "\n",
      "\n",
      "def compute_max_tangent_stress(S, nu, theta, DP):\n",
      "    \n",
      "    sZZ, stt, ttz, srr = compute_wellbore_stress(S, nu, theta, DP)\n",
      "    \n",
      "    return 0.5 * (sZZ + stt + np.sqrt((sZZ - stt) ** 2. + 4.0 * ttz ** 2.))\n",
      "\n",
      "\n",
      "def compute_min_tangent_stress(S, nu, theta, DP):\n",
      "    \n",
      "    sZZ, stt, ttz, srr = compute_wellbore_stress(S, nu, theta, DP)\n",
      "    \n",
      "    return 0.5 * (sZZ + stt - np.sqrt((sZZ - stt) ** 2. + 4.0 * ttz ** 2.))"
     ],
     "language": "python",
     "metadata": {},
     "outputs": [],
     "prompt_number": 1
    },
    {
     "cell_type": "code",
     "collapsed": true,
     "input": [
      "S = np.array([[30, 0, 0],[0,25,0],[0,0,20]])\n",
      "\n",
      "Sb = compute_Sb(S, angles_G=(90,0,0), angles_B=(20,20))"
     ],
     "language": "python",
     "metadata": {},
     "outputs": [],
     "prompt_number": 2
    },
    {
     "cell_type": "code",
     "collapsed": false,
     "input": [
      "Sb"
     ],
     "language": "python",
     "metadata": {},
     "outputs": [
      {
       "metadata": {},
       "output_type": "pyout",
       "prompt_number": 3,
       "text": [
        "array([[ 24.931581  ,   1.51005693,   1.79494869],\n",
        "       [  1.51005693,  29.41511111,   0.54961578],\n",
        "       [  1.79494869,   0.54961578,  20.6533079 ]])"
       ]
      }
     ],
     "prompt_number": 3
    },
    {
     "cell_type": "code",
     "collapsed": true,
     "input": [
      "Sb_eff = Sb - 20 * np.eye(3)"
     ],
     "language": "python",
     "metadata": {},
     "outputs": [],
     "prompt_number": 4
    },
    {
     "cell_type": "code",
     "collapsed": true,
     "input": [
      "smin = compute_min_tangent_stress(Sb_eff, 0.2, 90.0, 20)"
     ],
     "language": "python",
     "metadata": {},
     "outputs": [],
     "prompt_number": 5
    },
    {
     "cell_type": "code",
     "collapsed": false,
     "input": [
      "smin"
     ],
     "language": "python",
     "metadata": {},
     "outputs": [
      {
       "metadata": {},
       "output_type": "pyout",
       "prompt_number": 6,
       "text": [
        "-15.516776081052861"
       ]
      }
     ],
     "prompt_number": 6
    },
    {
     "cell_type": "code",
     "collapsed": true,
     "input": [
      "smax = compute_max_tangent_stress(Sb_eff, 0.2, 90.0, 20)"
     ],
     "language": "python",
     "metadata": {},
     "outputs": [],
     "prompt_number": 7
    },
    {
     "cell_type": "code",
     "collapsed": false,
     "input": [
      "smax"
     ],
     "language": "python",
     "metadata": {},
     "outputs": [
      {
       "metadata": {},
       "output_type": "pyout",
       "prompt_number": 8,
       "text": [
        "-0.24369618544752836"
       ]
      }
     ],
     "prompt_number": 8
    },
    {
     "cell_type": "code",
     "collapsed": true,
     "input": [
      "theta = np.linspace(0,360,num=100)"
     ],
     "language": "python",
     "metadata": {},
     "outputs": [],
     "prompt_number": 9
    },
    {
     "cell_type": "code",
     "collapsed": true,
     "input": [
      "smax = np.array([ compute_max_tangent_stress(Sb_eff, 0.2, i, 20) for i in theta])"
     ],
     "language": "python",
     "metadata": {},
     "outputs": [],
     "prompt_number": 10
    },
    {
     "cell_type": "code",
     "collapsed": false,
     "input": [
      "smax"
     ],
     "language": "python",
     "metadata": {},
     "outputs": [
      {
       "metadata": {},
       "output_type": "pyout",
       "prompt_number": 11,
       "text": [
        "array([ 4.0618648 ,  3.25309224,  2.49580708,  1.97273286,  1.64412945,\n",
        "        1.38292195,  1.13962803,  0.90074039,  0.66396539,  0.43090859,\n",
        "        0.20470072, -0.01092054, -0.21203211, -0.3947527 , -0.55538372,\n",
        "       -0.69050659, -0.79705485, -0.87236882, -0.9142368 , -0.92092401,\n",
        "       -0.89118997, -0.82429416, -0.7199899 , -0.57850586, -0.40051497,\n",
        "       -0.18709029,  0.06035216,  0.34012314,  0.6503408 ,  0.98901784,\n",
        "        1.3541461 ,  1.74376052,  2.15594965,  2.58875769,  3.03989785,\n",
        "        3.50618555,  3.98264182,  4.46136268,  4.93049594,  5.37386176,\n",
        "        5.77164168,  6.10208175,  6.34365287,  6.47700109,  6.48630771,\n",
        "        6.36004938,  6.09137449,  5.67841519,  5.12503102,  4.44321181,\n",
        "        3.66148046,  2.85533728,  2.20049007,  1.79406955,  1.5095537 ,\n",
        "        1.26029526,  1.01991453,  0.7820409 ,  0.5467979 ,  0.31672285,\n",
        "        0.09532267, -0.11353553, -0.30592802, -0.47805057, -0.62633429,\n",
        "       -0.74752886, -0.83876524, -0.89760342, -0.92206724, -0.91066763,\n",
        "       -0.86241412, -0.77681463, -0.65386326, -0.49401548, -0.29815063,\n",
        "       -0.06752121,  0.19631069,  0.4915489 ,  0.81624783,  1.16839988,\n",
        "        1.54601281,  1.94715223,  2.36990641,  2.81220534,  3.27140474,\n",
        "        3.74355434,  4.22235843,  4.69803991,  5.15656912,  5.57978908,\n",
        "        5.94665528,  6.23525571,  6.42493783,  6.49798607,  6.44066495,\n",
        "        6.24375248,  5.90283848,  5.4187675 ,  4.79896155,  4.0618648 ])"
       ]
      }
     ],
     "prompt_number": 11
    },
    {
     "cell_type": "code",
     "collapsed": false,
     "input": [
      "%matplotlib inline\n",
      "import matplotlib.pyplot as plt\n",
      "\n",
      "plt.plot(theta, smax)"
     ],
     "language": "python",
     "metadata": {},
     "outputs": [
      {
       "metadata": {},
       "output_type": "pyout",
       "prompt_number": 12,
       "text": [
        "[<matplotlib.lines.Line2D at 0x105d68510>]"
       ]
      },
      {
       "metadata": {},
       "output_type": "display_data",
       "png": "[encoded data removed]",
       "text": [
        "<matplotlib.figure.Figure at 0x105c34210>"
       ]
      }
     ],
     "prompt_number": 12
    }
   ],
   "metadata": {}
  }
 ]
}