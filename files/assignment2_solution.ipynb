{
 "metadata": {
  "kernelspec": {
   "display_name": "Python 3",
   "language": "python",
   "name": "python3"
  },
  "language_info": {
   "codemirror_mode": {
    "name": "ipython",
    "version": 3
   },
   "file_extension": ".py",
   "mimetype": "text/x-python",
   "name": "python",
   "nbconvert_exporter": "python",
   "pygments_lexer": "ipython3",
   "version": "3.4.2"
  },
  "name": "",
  "signature": "sha256:752bb676306b8ee01a0db0d52d1815a6e830095ff1dbd0b51b32bc613db8568a"
 },
 "nbformat": 3,
 "nbformat_minor": 0,
 "worksheets": [
  {
   "cells": [
    {
     "cell_type": "markdown",
     "metadata": {},
     "source": [
      "# Problem 1 (40 points)\n",
      "\n",
      "1. The following table contains the estimated bulk mass densities as a function of depth for an offshore location in Brazil. Water depth is 500m. Measurements indicate that porosity of shale layers estimated through resistivity measurements.\n",
      "\n",
      "|Depth (m)| Bulk mass density (kg/m$^3$) | Shale porosity |\n",
      "|:-------:|:-------------------------:|:--------------:|\n",
      "| 0   | 1025 | | \n",
      "| 100 | 1026 | |\n",
      "| 200 | 1026 | |\n",
      "| 300 | 1030 | |\n",
      "| 400 | 1030 | |\n",
      "| 500 | 1031 | |\n",
      "| 600 | 1900 | |\n",
      "| 700 | 2190 | |\n",
      "| 800 | 2200 | |\n",
      "| 900 | 2230 | |\n",
      "| 1000| 2235 | |\n",
      "| 1100| 2240 | |\n",
      "| 1200| 2275 | 0.305 |\n",
      "| 1300| 2305 | 0.297 |\n",
      "| 1400| 2310 | 0.286 |\n",
      "| 1500| 2308 | 0.281 |\n",
      "| 1600| 2310 | 0.285 |\n",
      "| 1700| 2305 | 0.293 |\n",
      "| 1800| 2310 | 0.307 |\n",
      "| 1900| 2324 | 0.305 |\n",
      "| 2000| 2319 | 0.298 |\n",
      "\n",
      "\n",
      " a. Plot $S_v$ as a function of depth (in SI units)\n",
      "\n",
      " b. Plot hydrostatic water pressure as a function of depth. Assume the density of brine water is 1031 kg/m$^3$\n",
      "in the rock pore space (in SI units).\n",
      "\n",
      " c. Additional compaction lab measurements on shale cores indicate a good fit of the porosity-effective vertical stress relation through the equation $\\phi = \\phi_0 \\exp(-\\beta (S_v - P_p))$, with parameters $\\phi_0=0.38$ and $\\beta = 3 \\cdot 10^{-2}$ MPa$^{-1}$. Estimate the pore pressure in the shale. Is there overpressure? At what depth does it start?\n",
      "\n",
      " d. Plot vertical effective strees, $\\sigma_v^{eff}$ as a function of depth (in SI units)."
     ]
    },
    {
     "cell_type": "markdown",
     "metadata": {},
     "source": [
      "**Solution**"
     ]
    },
    {
     "cell_type": "code",
     "collapsed": false,
     "input": [
      "import numpy as np\n",
      "from scipy import integrate\n",
      "import scipy.optimize\n",
      "\n",
      "%matplotlib inline\n",
      "import matplotlib.pyplot as plt\n",
      "\n",
      "#Input data\n",
      "depth = np.linspace(0, 2000, num=21)\n",
      "density = np.array([1025, 1026, 1026, 1030, 1030, 1031, 1900, 2190, \n",
      "                    2200, 2230, 2235, 2240, 2275, 2305, 2310, 2308, \n",
      "                    2310, 2305, 2310, 2323, 2319])\n",
      "density_brine = 1031. * np.ones_like(density)\n",
      "porosity = np.array([0.305, 0.297, 0.286, 0.281, 0.285, 0.293, 0.307, 0.305, 0.298])\n",
      "\n",
      "#Compute S_v\n",
      "Sv = integrate.cumtrapz(density * 9.81, depth, initial=0)\n",
      "#Compute S_hydro\n",
      "hydro = integrate.cumtrapz(density_brine * 9.81, depth, initial=0)\n",
      "#Compute P_p\n",
      "phi_0 = 0.38\n",
      "beta = 3e-2 / (1e6)\n",
      "Pp = Sv[-len(porosity):] + (1. / beta) * np.log( porosity / phi_0)\n",
      "#Compute sigma_eff\n",
      "sigma_eff = Sv[-len(porosity):] - Pp\n",
      "#Create plot\n",
      "plt.plot(depth, Sv / 1e6, 'k', label=\"$S_v$\") \n",
      "plt.plot(depth, hydro / 1e6, 'b', label=\"$S_{hydro}$\") \n",
      "plt.plot(depth[-(len(porosity)):], Pp / 1e6, 'r', label=\"$P_p$\")\n",
      "plt.plot(depth[-(len(porosity)):], sigma_eff / 1e6, 'g', label=\"$\\sigma_{eff}$\");\n",
      "plt.grid()\n",
      "plt.legend(loc=2)\n",
      "plt.xlabel(\"Depth (m)\")\n",
      "plt.ylabel(\"Pressure (MPa)\");"
     ],
     "language": "python",
     "metadata": {},
     "outputs": [
      {
       "metadata": {},
       "output_type": "display_data",
       "png": "[encoded data removed]",
       "text": [
        "<matplotlib.figure.Figure at 0x110e8b550>"
       ]
      }
     ],
     "prompt_number": 1
    },
    {
     "cell_type": "markdown",
     "metadata": {},
     "source": [
      "Below are the depths at which there is an overpressure."
     ]
    },
    {
     "cell_type": "code",
     "collapsed": false,
     "input": [
      "depth[-(len(porosity)):][Pp > hydro[-(len(porosity)):]]"
     ],
     "language": "python",
     "metadata": {},
     "outputs": [
      {
       "metadata": {},
       "output_type": "pyout",
       "prompt_number": 2,
       "text": [
        "array([ 1300.,  1400.,  1500.,  1600.,  1700.,  1800.,  1900.,  2000.])"
       ]
      }
     ],
     "prompt_number": 2
    },
    {
     "cell_type": "markdown",
     "metadata": {},
     "source": [
      "So the overpressure starts at between 1200 and 1300 meters."
     ]
    },
    {
     "cell_type": "markdown",
     "metadata": {},
     "source": [
      "#Problem 2 (20 points)\n",
      "\n",
      "Compare the characteristic hydraulic time of escape in a sandstone formation with porosity 0.25 and the one with the same matrix grains, but more compacted, with porosity 0.12.\n",
      "\n",
      " * You can assume that permeability can be estimated using equation $k = C d^2 \\phi^3$ where $C$ is a given constant, $d$ is sandstone grain diameter and $\\phi$ is porosity. When using the formula, assume that constant $C$ and grain diameter $d$ do not change during compaction. Compressibility $\\beta$ of a material is inverse of its bulk modulus $K$. Bulk modulus for brine water and quartz grains are given as $K_f=2.2$ GPa and $K_r=41$ GPa."
     ]
    },
    {
     "cell_type": "markdown",
     "metadata": {},
     "source": [
      "**Solution**\n",
      "\n",
      "We'll make the comparison through utilizing a ratio of the two characteristic hydraulic times."
     ]
    },
    {
     "cell_type": "code",
     "collapsed": false,
     "input": [
      "tau_ratio = ((0.12 * (1. / 2.2e9) + (1. / 41e9)) / \n",
      "             0.12 ** 3.0) / ((0.25 * (1. / 2.2e9) + (1. / 41e9)) / 0.25 ** 3.0); tau_ratio"
     ],
     "language": "python",
     "metadata": {},
     "outputs": [
      {
       "metadata": {},
       "output_type": "pyout",
       "prompt_number": 3,
       "text": [
        "5.1711475531756665"
       ]
      }
     ],
     "prompt_number": 3
    },
    {
     "cell_type": "markdown",
     "metadata": {},
     "source": [
      "Therefore, the more compacted sandstone formation with a porosity of $0.12$ will have a characteristic hydraulic time that is $5.2$ times longer than the sandstone with a porosity value of $0.25$."
     ]
    },
    {
     "cell_type": "markdown",
     "metadata": {},
     "source": [
      "# Problem 3 (30 points)\n",
      "\n",
      "Assume stresses are given as $S_{hmin}=40$ MPa, $S_{Hmax}$=60 MPa, $S_{v}$=45 MPa and $S_{hmin}$ acts in the East-West direction. For each of the faults below, calculate the normal and shear stress and then determine what kind of fault would it be, if it were to slip.\n",
      " \n",
      " a. Fault with strike north-south, dip 65$^\\circ$ to the east.\n",
      " \n",
      " b. Fault with strike north-south, dip 50$^\\circ$ to the west\n",
      " \n",
      " c. Fault with strike east-west, dip 25$^\\circ$ to the north."
     ]
    },
    {
     "cell_type": "markdown",
     "metadata": {},
     "source": [
      "**Solution**\n",
      "\n",
      "First we need to order the stresses in terms of the principle stress definitions, i.e. $S_1 = S_{Hmax}$, $S_2 = S_v$, and $S_3 = S{hmin}$.  With this ordering, we can see that we need to rotate by $\\gamma = 90^{\\circ}$ to align $S_v$ down and $S_{hmin}$ with the East-West direction.  First we define a function to calculate the rotation matrix and compute $S_G$."
     ]
    },
    {
     "cell_type": "code",
     "collapsed": true,
     "input": [
      "def compute_Sg(S, angles=(0,0,0)):\n",
      "    \n",
      "    alpha, beta, gamma = np.radians(angles)\n",
      "    \n",
      "    Rg = np.array([[np.cos(alpha) * np.cos(beta),  \n",
      "                    np.sin(alpha) * np.cos(beta),  \n",
      "                    -np.sin(beta)],\n",
      "                   [np.cos(alpha) * np.sin(beta) * np.sin(gamma) - np.sin(alpha) * np.cos(gamma), \n",
      "                    np.sin(alpha) * np.sin(beta) * np.sin(gamma) + np.cos(alpha) * np.cos(gamma),  \n",
      "                    np.cos(beta) * np.sin(gamma)],\n",
      "                   [np.cos(alpha) * np.sin(beta) * np.cos(gamma) + np.sin(alpha) * np.sin(gamma), \n",
      "                    np.sin(alpha) * np.sin(beta) * np.cos(gamma) - np.cos(alpha) * np.sin(gamma),  \n",
      "                    np.cos(beta) * np.cos(gamma)]])\n",
      "                  \n",
      "    return np.dot(Rg.T, np.dot(S,Rg))"
     ],
     "language": "python",
     "metadata": {},
     "outputs": [],
     "prompt_number": 4
    },
    {
     "cell_type": "code",
     "collapsed": false,
     "input": [
      "S = np.diag([60, 45, 40])\n",
      "\n",
      "S_G = compute_Sg(S, angles=(0,0,90)); S_G"
     ],
     "language": "python",
     "metadata": {},
     "outputs": [
      {
       "metadata": {},
       "output_type": "pyout",
       "prompt_number": 5,
       "text": [
        "array([[  6.00000000e+01,   0.00000000e+00,   0.00000000e+00],\n",
        "       [  0.00000000e+00,   4.00000000e+01,   3.06161700e-16],\n",
        "       [  0.00000000e+00,   3.06161700e-16,   4.50000000e+01]])"
       ]
      }
     ],
     "prompt_number": 5
    },
    {
     "cell_type": "markdown",
     "metadata": {},
     "source": [
      "Now we'll define a function that will compute the unit vectors for us."
     ]
    },
    {
     "cell_type": "code",
     "collapsed": false,
     "input": [
      "def compute_unit_vectors(strike, dip):\n",
      "    \n",
      "    strike = np.radians(strike)\n",
      "    dip = np.radians(dip)\n",
      "    \n",
      "    n = np.array([-np.sin(strike) * np.sin(dip), np.cos(strike) * np.sin(dip), -np.cos(dip) ])\n",
      "    \n",
      "    ns = np.array([ np.cos(strike), np.sin(strike), 0 ])\n",
      "    \n",
      "    nd = np.array([ -np.sin(strike) * np.cos(dip), np.cos(strike) * np.cos(dip), np.sin(dip) ])\n",
      "    \n",
      "    return (n, ns, nd)"
     ],
     "language": "python",
     "metadata": {},
     "outputs": [],
     "prompt_number": 6
    },
    {
     "cell_type": "markdown",
     "metadata": {},
     "source": [
      "With this we can easily compute the anwers to the following scenerios."
     ]
    },
    {
     "cell_type": "markdown",
     "metadata": {},
     "source": [
      "**a) $strike = 60^{\\circ}, dip = 65^{\\circ}$**"
     ]
    },
    {
     "cell_type": "code",
     "collapsed": false,
     "input": [
      "n, ns, nd = compute_unit_vectors(0, 65); \n",
      "print(n)\n",
      "print(ns)\n",
      "print(nd)"
     ],
     "language": "python",
     "metadata": {},
     "outputs": [
      {
       "output_type": "stream",
       "stream": "stdout",
       "text": [
        "[-0.          0.90630779 -0.42261826]\n",
        "[ 1.  0.  0.]\n",
        "[-0.          0.42261826  0.90630779]\n"
       ]
      }
     ],
     "prompt_number": 7
    },
    {
     "cell_type": "markdown",
     "metadata": {},
     "source": [
      "Now we compute the normal and shear stresses on the plane"
     ]
    },
    {
     "cell_type": "code",
     "collapsed": false,
     "input": [
      "sigma_n = np.dot(np.dot(S_G, n), n); sigma_n"
     ],
     "language": "python",
     "metadata": {},
     "outputs": [
      {
       "metadata": {},
       "output_type": "pyout",
       "prompt_number": 8,
       "text": [
        "40.893030975783645"
       ]
      }
     ],
     "prompt_number": 8
    },
    {
     "cell_type": "code",
     "collapsed": false,
     "input": [
      "tau_s = np.dot(np.dot(S_G, n), ns); tau_s"
     ],
     "language": "python",
     "metadata": {},
     "outputs": [
      {
       "metadata": {},
       "output_type": "pyout",
       "prompt_number": 9,
       "text": [
        "0.0"
       ]
      }
     ],
     "prompt_number": 9
    },
    {
     "cell_type": "code",
     "collapsed": false,
     "input": [
      "tau_d = np.dot(np.dot(S_G, n), nd); tau_d"
     ],
     "language": "python",
     "metadata": {},
     "outputs": [
      {
       "metadata": {},
       "output_type": "pyout",
       "prompt_number": 10,
       "text": [
        "-1.9151111077974452"
       ]
      }
     ],
     "prompt_number": 10
    },
    {
     "cell_type": "markdown",
     "metadata": {},
     "source": [
      "In this case, there is only a shear stress in direction of the dip.  This is the shear stress on the footwall as defined, therefore the hanging wall will have a shear stress in the opposite direction (opposing motion) such that the hanging wall will move in the direction of the shear stress on the footwall.  Therefore, the motion of the hanging wall will be *up* the footwall.  **This is a reverse fault**."
     ]
    },
    {
     "cell_type": "markdown",
     "metadata": {},
     "source": [
      "**b)** $strike = 180^{\\circ}, dip = 50^{\\circ}$"
     ]
    },
    {
     "cell_type": "code",
     "collapsed": false,
     "input": [
      "n, ns, nd = compute_unit_vectors(180, 55); \n",
      "print(n)\n",
      "print(ns)\n",
      "print(nd)"
     ],
     "language": "python",
     "metadata": {},
     "outputs": [
      {
       "output_type": "stream",
       "stream": "stdout",
       "text": [
        "[ -1.00317193e-16  -8.19152044e-01  -5.73576436e-01]\n",
        "[ -1.00000000e+00   1.22464680e-16   0.00000000e+00]\n",
        "[ -7.02428547e-17  -5.73576436e-01   8.19152044e-01]\n"
       ]
      }
     ],
     "prompt_number": 11
    },
    {
     "cell_type": "code",
     "collapsed": false,
     "input": [
      "sigma_n = np.dot(np.dot(S_G, n), n); sigma_n"
     ],
     "language": "python",
     "metadata": {},
     "outputs": [
      {
       "metadata": {},
       "output_type": "pyout",
       "prompt_number": 12,
       "text": [
        "41.644949641685827"
       ]
      }
     ],
     "prompt_number": 12
    },
    {
     "cell_type": "code",
     "collapsed": false,
     "input": [
      "tau_s = np.dot(np.dot(S_G, n), ns); tau_s"
     ],
     "language": "python",
     "metadata": {},
     "outputs": [
      {
       "metadata": {},
       "output_type": "pyout",
       "prompt_number": 13,
       "text": [
        "2.0063438581070496e-15"
       ]
      }
     ],
     "prompt_number": 13
    },
    {
     "cell_type": "code",
     "collapsed": false,
     "input": [
      "tau_d = np.dot(np.dot(S_G, n), nd); tau_d"
     ],
     "language": "python",
     "metadata": {},
     "outputs": [
      {
       "metadata": {},
       "output_type": "pyout",
       "prompt_number": 14,
       "text": [
        "-2.3492315519647704"
       ]
      }
     ],
     "prompt_number": 14
    },
    {
     "cell_type": "markdown",
     "metadata": {},
     "source": [
      "Following the same logic as above, **this is a reverse fault**."
     ]
    },
    {
     "cell_type": "markdown",
     "metadata": {},
     "source": [
      "**c)** $strike = 270^{\\circ}, dip = 25^{\\circ}$"
     ]
    },
    {
     "cell_type": "code",
     "collapsed": false,
     "input": [
      "n, ns, nd = compute_unit_vectors(270, 25); \n",
      "print(n)\n",
      "print(ns)\n",
      "print(nd)"
     ],
     "language": "python",
     "metadata": {},
     "outputs": [
      {
       "output_type": "stream",
       "stream": "stdout",
       "text": [
        "[  4.22618262e-01  -7.76337152e-17  -9.06307787e-01]\n",
        "[ -1.83697020e-16  -1.00000000e+00   0.00000000e+00]\n",
        "[  9.06307787e-01  -1.66486040e-16   4.22618262e-01]\n"
       ]
      }
     ],
     "prompt_number": 15
    },
    {
     "cell_type": "code",
     "collapsed": false,
     "input": [
      "sigma_n = np.dot(np.dot(S_G, n), n); sigma_n"
     ],
     "language": "python",
     "metadata": {},
     "outputs": [
      {
       "metadata": {},
       "output_type": "pyout",
       "prompt_number": 16,
       "text": [
        "47.679092927350951"
       ]
      }
     ],
     "prompt_number": 16
    },
    {
     "cell_type": "code",
     "collapsed": false,
     "input": [
      "tau_s = np.dot(np.dot(S_G, n), ns); tau_s"
     ],
     "language": "python",
     "metadata": {},
     "outputs": [
      {
       "metadata": {},
       "output_type": "pyout",
       "prompt_number": 17,
       "text": [
        "-1.2751975718967087e-15"
       ]
      }
     ],
     "prompt_number": 17
    },
    {
     "cell_type": "code",
     "collapsed": false,
     "input": [
      "tau_d = np.dot(np.dot(S_G, n), nd); tau_d"
     ],
     "language": "python",
     "metadata": {},
     "outputs": [
      {
       "metadata": {},
       "output_type": "pyout",
       "prompt_number": 18,
       "text": [
        "5.7453333233923374"
       ]
      }
     ],
     "prompt_number": 18
    },
    {
     "cell_type": "markdown",
     "metadata": {},
     "source": [
      "Following the same logic as explained in a), **this is a normal fault**."
     ]
    }
   ],
   "metadata": {}
  }
 ]
}