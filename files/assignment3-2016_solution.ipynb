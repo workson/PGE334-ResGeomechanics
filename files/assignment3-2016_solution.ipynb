{
 "cells": [
  {
   "cell_type": "markdown",
   "metadata": {},
   "source": [
    "# Problem 1 (10 points)\n",
    "\n",
    "a. Using a constitutive model for an isotropic elastic solid that relates strains to applied effective stresses corrected by Biot's coefficient, assume you have a sample in subsurface subjected to overburden, and that confinement in both horizontal principal directions is so large that the horizontal strains are nearly zero. Derive elastic equations for horizontal stresses (use the variables $x$ and $y$ for horizontal directions) in terms of vertical loading as a function of depth (in $z$ direction).\n",
    "\n",
    "**Solution**\n",
    "\n",
    "Hooke's law\n",
    "\n",
    "\\begin{align}\n",
    "\\sigma_{xx} = \\lambda (\\varepsilon_{xx} + \\varepsilon_{yy} + \\varepsilon_{zz}) + 2 \\mu \\varepsilon_{xx} \\\\\n",
    "\\sigma_{yy} = \\lambda (\\varepsilon_{xx} + \\varepsilon_{yy} + \\varepsilon_{zz}) + 2 \\mu \\varepsilon_{yy} \\\\\n",
    "\\sigma_{zz} = \\lambda (\\varepsilon_{xx} + \\varepsilon_{yy} + \\varepsilon_{zz}) + 2 \\mu \\varepsilon_{zz}\n",
    "\\end{align}\n",
    "\n",
    "Substituting the assumptions from the problem statement\n",
    "\n",
    "\\begin{align}\n",
    "\\sigma_{H} = \\lambda \\varepsilon_{v} \\\\\n",
    "\\sigma_{H} = \\lambda \\varepsilon_{v}  \\\\\n",
    "\\sigma_{v} = \\lambda \\varepsilon_{v} + 2 \\mu \\varepsilon_{v} = (\\lambda + 2 \\mu) \\varepsilon_v\n",
    "\\end{align}\n",
    "\n",
    "Solving the third equation for $\\varepsilon_{v}$\n",
    "\n",
    "$$\n",
    "\\varepsilon_v = \\frac{\\sigma_{v}}{(\\lambda + 2 \\mu)}\n",
    "$$\n",
    "\n",
    "Substituting into one of the others\n",
    "\n",
    "$$\n",
    "\\sigma_{H} = \\frac{\\lambda \\sigma_{v}}{(\\lambda + 2 \\mu)} \n",
    "$$\n",
    "\n",
    "and using the relationship \n",
    "\n",
    "$$\n",
    "\\lambda = \\frac{2 \\mu \\nu}{1 - 2 \\nu}\n",
    "$$\n",
    "\n",
    "and simplifying\n",
    "\n",
    "$$\n",
    "\\sigma_{H} = \\frac{\\nu \\sigma_{v}}{\\nu - 1} = \\frac{\\nu \\bar{\\rho}g z}{\\nu - 1}\n",
    "$$\n",
    "\n",
    "and using the Biot's effective stress relationship we have:\n",
    "\n",
    "$$\n",
    "S_{H} = \\frac{\\nu (S_{v} - \\alpha P_p)}{1 - \\nu}  +  \\alpha P_p\n",
    "$$\n",
    "\n",
    "b. Assume you are at depth of $4$ km and the pore pressure at that depth is hydrostatic. Using the equations derived in a) above, Biot's parameter of $\\alpha=0.7$, and a Poisson’s ratio $\\nu=0.2$, estimate the horizontal stress magnitudes $S_{hmin}=S_{Hmax}$ at that depth. \n",
    "\n",
    "**Solution**\n",
    "\n",
    "\\begin{align}\n",
    "S_{H}  &= \\frac{0.2 (92 \\mbox{ MPa} - 0.7 \\cdot 40 \\mbox{ MPa})}{1 - \\cdot 0.2}  +  0.7 \\cdot 40 \\mbox{ MPa} \\\\\n",
    "S_{H}  &= 44 \\mbox{ MPa} \\\\\n",
    "\\end{align}"
   ]
  },
  {
   "cell_type": "markdown",
   "metadata": {},
   "source": [
    "# Problem 2 (30 points)\n",
    "\n",
    "Bernabe and Brace (1990) in their article \"Deformation and fracture of Berea Sandstone\" reported a number of triaxial test measurements for Berea sandstone, and some of them are given in the table below (all data in MPa).\n",
    "\n",
    "|$S_3$ (confining pressure) | $P_p$ (pore pressure) | $S_1-S_3$ (differential stress) |\n",
    "|---------------------------|-----------------------|---------------------------------|\n",
    "|10|0|116|\n",
    "|50|0|227|\n",
    "|20|8|119|\n",
    "|45|8|183|\n",
    "|60|8|206|\n",
    "|75|8|228|\n",
    "|50|37|120|\n",
    "|50|32|141|\n",
    "|90|64|161|\n",
    "|90|55|187|\n",
    "|130|96|186|\n",
    "|130|84|207|\n",
    "\n",
    "Fit this data to Mohr-Coulomb criterion to compute unconfined compressive strength $C_0$ and internal friction coefficient $\\mu_i$ for Berea sandstone.\n"
   ]
  },
  {
   "cell_type": "markdown",
   "metadata": {},
   "source": [
    "**Solution**\n",
    "\n",
    "First we create a curve fit and then use Eq. 4.5 from the book to find the internal friction and extrapolate $C_0$."
   ]
  },
  {
   "cell_type": "code",
   "execution_count": 1,
   "metadata": {
    "collapsed": false
   },
   "outputs": [
    {
     "data": {
      "image/png": "[encoded data removed]",
      "text/plain": [
       "<matplotlib.figure.Figure at 0x1037a4f60>"
      ]
     },
     "metadata": {},
     "output_type": "display_data"
    }
   ],
   "source": [
    "import numpy as np\n",
    "import matplotlib.pyplot as plt\n",
    "%matplotlib inline\n",
    "\n",
    "data = np.array([[10, 0, 116], [50, 0, 227], [20, 8, 119], [45, 8, 183], \n",
    "                 [60, 8, 206], [75, 8, 228], [50, 37, 120], [50, 32, 141],\n",
    "                 [90, 64, 161], [90, 55, 187], [130, 96, 186], [130, 84, 207]])\n",
    "\n",
    "S3_eff = data[:,0] - data[:,1]\n",
    "S1_eff = data[:,2] + data[:,0] - data[:,1]\n",
    "\n",
    "z = np.polyfit(S3_eff, S1_eff, 1)\n",
    "\n",
    "nfun = np.poly1d(z)\n",
    "\n",
    "line_x = np.linspace(0,70, num=100)\n",
    "line_y = nfun(line_x)\n",
    "\n",
    "plt.plot(S3_eff, S1_eff, 'ko', line_x, line_y, 'b-');\n",
    "plt.grid()\n",
    "plt.xlabel('$\\sigma_3^{eff}$ MPa')\n",
    "plt.ylabel('$\\sigma_1^{eff}$ MPa');"
   ]
  },
  {
   "cell_type": "code",
   "execution_count": 2,
   "metadata": {
    "collapsed": false
   },
   "outputs": [
    {
     "name": "stdout",
     "output_type": "stream",
     "text": [
      "100.080890436\n",
      "0.614932136531\n"
     ]
    }
   ],
   "source": [
    "print(z[1])\n",
    "\n",
    "print((z[0] - 1) / 2 / np.sqrt(z[0]))"
   ]
  },
  {
   "cell_type": "markdown",
   "metadata": {},
   "source": [
    "From the polynomial fit\n",
    "\n",
    "$C_0 = 100$ MPa\n",
    "\n",
    "and from the computation above\n",
    "\n",
    "$\\mu_I = 0.61$"
   ]
  },
  {
   "cell_type": "markdown",
   "metadata": {},
   "source": [
    "# Problem 3 (20 points)\n",
    "\n",
    "Given:\n",
    "\n",
    " * $S_{Hmax} = 90$ MPa\n",
    " * $S_{hmin} = 51.5$ MPa\n",
    " * $P_p = P_w = 31.5$ MPa\n",
    " \n",
    "Recreate Figure 6.2 in Zoback, also shown [here](http://johnfoster.pge.utexas.edu/PGE334-ResGeomechanics/slides/Lecture17.slides.html#/3).\n",
    "\n",
    "**Solution**"
   ]
  },
  {
   "cell_type": "code",
   "execution_count": 3,
   "metadata": {
    "collapsed": true
   },
   "outputs": [],
   "source": [
    "def sigma_TT(SHmax, Shmin, Pp, Pm, a, r, theta):\n",
    "    \n",
    "    sigma_Hmax = SHmax - Pp\n",
    "    sigma_hmin = Shmin - Pp\n",
    "    \n",
    "    return ((sigma_Hmax + sigma_hmin) / 2. * (1. + a ** 2. / r ** 2.) - \n",
    "            (sigma_Hmax - sigma_hmin) / 2. * (1. + 3. * a ** 4. / r ** 4.) * np.cos( 2 * theta ) -\n",
    "            (Pm - Pp) * a ** 2. / r ** 2.)"
   ]
  },
  {
   "cell_type": "code",
   "execution_count": 4,
   "metadata": {
    "collapsed": true
   },
   "outputs": [],
   "source": [
    "a = 0.2302 #8 in. in meters\n",
    "SHmax = 90\n",
    "Shmin = 51.5\n",
    "Pp = 31.5\n",
    "Pm = 31.5\n",
    "\n",
    "#Increasing N gives smoother plots\n",
    "N = 500\n",
    "j = np.complex(1.0)\n",
    "\n",
    "#Discretizing r and theta\n",
    "r = np.linspace(a, 2*a, num=N)\n",
    "theta = np.linspace(0, 2. * np.pi * np.pi, num=N)\n",
    "\n",
    "#Calculate the field values\n",
    "x = r * np.cos(theta[:,None])\n",
    "y = r * np.sin(theta[:,None])\n",
    "z = sigma_TT(SHmax, Shmin, Pp, Pm, a, r, theta[:,None])"
   ]
  },
  {
   "cell_type": "markdown",
   "metadata": {},
   "source": [
    "We have to interpolate the data from polar coordinates onto a regular cartesian grid."
   ]
  },
  {
   "cell_type": "code",
   "execution_count": 5,
   "metadata": {
    "collapsed": false
   },
   "outputs": [],
   "source": [
    "from scipy.interpolate import griddata\n",
    "\n",
    "XX, YY = np.mgrid[-2*a:2*a:N*j,-2*a:2*a:N*j]\n",
    "\n",
    "ZZ = griddata((x.ravel(),y.ravel()), z.ravel(), (XX, YY))"
   ]
  },
  {
   "cell_type": "markdown",
   "metadata": {},
   "source": [
    "Now we plot the result, removing any of the interpolated values inside the wellbore"
   ]
  },
  {
   "cell_type": "code",
   "execution_count": 6,
   "metadata": {
    "collapsed": false
   },
   "outputs": [
    {
     "data": {
      "image/png": "[encoded data removed]",
      "text/plain": [
       "<matplotlib.figure.Figure at 0x10f42f898>"
      ]
     },
     "metadata": {},
     "output_type": "display_data"
    }
   ],
   "source": [
    "interior = np.sqrt(XX ** 2.+ YY ** 2.) < a\n",
    "ZZ[interior] = np.nan\n",
    "\n",
    "plt.figure()\n",
    "plt.gca().set_aspect('equal')\n",
    "plt.contourf(XX, YY, ZZ, cmap=\"coolwarm\", levels=np.linspace(0, 150, 30))\n",
    "plt.colorbar();"
   ]
  }
 ],
 "metadata": {
  "kernelspec": {
   "display_name": "Python 3",
   "language": "python",
   "name": "python3"
  },
  "language_info": {
   "codemirror_mode": {
    "name": "ipython",
    "version": 3
   },
   "file_extension": ".py",
   "mimetype": "text/x-python",
   "name": "python",
   "nbconvert_exporter": "python",
   "pygments_lexer": "ipython3",
   "version": "3.5.1"
  }
 },
 "nbformat": 4,
 "nbformat_minor": 0
}
