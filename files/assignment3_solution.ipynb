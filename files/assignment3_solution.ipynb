{
 "cells": [
  {
   "cell_type": "markdown",
   "metadata": {},
   "source": [
    "#Problem 1 (20 points)"
   ]
  },
  {
   "cell_type": "markdown",
   "metadata": {},
   "source": [
    "A major fault in your reservoir has strike N35$^\\circ$W and dip 60$^\\circ$ from horizontal. $S_{hmin}$ in this area acts along 020$^\\circ$, and in situ stresses are $S_{hmin}=70$ MPa, $S_{Hmax}=80$ MPa, $S_v=65$ MPa.   Assume the pore pressure $P_p =30$ MPa. Is the fault likely to slip if the respective frictional coefficient is $\\mu=0.7$?\n",
    "\n",
    "**Solution**\n",
    "\n",
    "First we'll define some functions that we will use in this problem and the next."
   ]
  },
  {
   "cell_type": "code",
   "execution_count": 1,
   "metadata": {
    "collapsed": true
   },
   "outputs": [],
   "source": [
    "import numpy as np\n",
    "\n",
    "def compute_Sg(S, angles=(0,0,0)):\n",
    "    \n",
    "    alpha, beta, gamma = np.radians(angles)\n",
    "    \n",
    "    Rg = np.array([[np.cos(alpha) * np.cos(beta),  \n",
    "                    np.sin(alpha) * np.cos(beta),  \n",
    "                    -np.sin(beta)],\n",
    "                   [np.cos(alpha) * np.sin(beta) * np.sin(gamma) - np.sin(alpha) * np.cos(gamma), \n",
    "                    np.sin(alpha) * np.sin(beta) * np.sin(gamma) + np.cos(alpha) * np.cos(gamma),  \n",
    "                    np.cos(beta) * np.sin(gamma)],\n",
    "                   [np.cos(alpha) * np.sin(beta) * np.cos(gamma) + np.sin(alpha) * np.sin(gamma), \n",
    "                    np.sin(alpha) * np.sin(beta) * np.cos(gamma) - np.cos(alpha) * np.sin(gamma),  \n",
    "                    np.cos(beta) * np.cos(gamma)]])\n",
    "                  \n",
    "    return np.dot(Rg.T, np.dot(S,Rg))\n",
    "\n",
    "\n",
    "def compute_unit_vectors(strike, dip):\n",
    "    \n",
    "    strike = np.radians(strike)\n",
    "    dip = np.radians(dip)\n",
    "    \n",
    "    n = np.array([-np.sin(strike) * np.sin(dip), np.cos(strike) * np.sin(dip), -np.cos(dip) ])\n",
    "    \n",
    "    ns = np.array([ np.cos(strike), np.sin(strike), 0 ])\n",
    "    \n",
    "    nd = np.array([ -np.sin(strike) * np.cos(dip), np.cos(strike) * np.cos(dip), np.sin(dip) ])\n",
    "    \n",
    "    return (n, ns, nd)\n",
    "\n",
    "\n",
    "def compute_stress_components_on_fault(S, strike, dip, angles=(0,0,0)):\n",
    "\n",
    "    S_G = compute_Sg(S, angles)\n",
    "    \n",
    "    n, ns, nd = compute_unit_vectors(strike, dip)\n",
    "    \n",
    "    sigma_n = np.dot(np.dot(S_G, n), n)\n",
    "    tau_s = np.dot(np.dot(S_G, n), ns)\n",
    "    tau_d = np.dot(np.dot(S_G, n), nd)\n",
    "    \n",
    "    tau_mag = np.sqrt(tau_s ** 2. + tau_d ** 2.)\n",
    "    \n",
    "    return (sigma_n, tau_s, tau_d, tau_mag)\n",
    "\n",
    "\n",
    "def check_fault_slip(S, Pp, strike, dip, angles=(0,0,0), mu=0.6):\n",
    "    \n",
    "    sigma_n, tau_s, tau_d, tau_mag = compute_stress_components_on_fault(S, strike, dip, angles)\n",
    "    \n",
    "    return (tau_mag / (sigma_n - Pp) > mu)"
   ]
  },
  {
   "cell_type": "markdown",
   "metadata": {},
   "source": [
    "Now we can check to see if our fault is slipping under the given conditions from the funcions above."
   ]
  },
  {
   "cell_type": "code",
   "execution_count": 2,
   "metadata": {
    "collapsed": false
   },
   "outputs": [
    {
     "data": {
      "text/plain": [
       "False"
      ]
     },
     "execution_count": 2,
     "metadata": {},
     "output_type": "execute_result"
    }
   ],
   "source": [
    "S = np.diag([80, 70, 65])\n",
    "\n",
    "check_fault_slip(S, 30, 35, 60, angles=(-70,0,0), mu=0.7)"
   ]
  },
  {
   "cell_type": "markdown",
   "metadata": {},
   "source": [
    "#Problem 2 (50 points)\n",
    "\n",
    "Assuming the same reservior conditions as Problem 1, write a computer code that can compute the resolved shear stress magnitude and normal effective stress on a fault characterized by the strike direction and dip angle.  Now randomly generate 10000 faults (use a statistical distribution to choose random pairs of strike and dip) and plot the results on a Mohr diagram.  Where do near vertical strike-slip faults appear on this diagram? Where do the oblique-slip faults fall?\n",
    "\n",
    "**Solution**\n",
    "\n",
    "The code below creates the random faults.  We will assume that a near-vertical strike-slip fault is one in which the dip angle is greater than $85^\\circ$.  Oblique-slip faults are those that have near-equal magnitudes of shear and dip components of shear stresses."
   ]
  },
  {
   "cell_type": "code",
   "execution_count": 58,
   "metadata": {
    "collapsed": false
   },
   "outputs": [
    {
     "data": {
      "image/png": "[encoded data removed]",
      "text/plain": [
       "<matplotlib.figure.Figure at 0x106360050>"
      ]
     },
     "metadata": {},
     "output_type": "display_data"
    }
   ],
   "source": [
    "import matplotlib.pyplot as plt\n",
    "%matplotlib inline\n",
    "\n",
    "def create_plot(S, angles=(0,0,0)):\n",
    "\n",
    "    strikes = np.random.rand(10000) * 360\n",
    "    dips =  np.random.rand(10000) * 90\n",
    "\n",
    "    out = np.array([ compute_stress_components_on_fault(S, strikes[i], dips[i], angles) for i in range(len(strikes)) ])\n",
    "\n",
    "    normal = out[:,0]\n",
    "    shear_slip = out[:,1]\n",
    "    shear_dip = out[:,2]\n",
    "    shear_mag = out[:,3]\n",
    "\n",
    "\n",
    "    vert_ss = np.logical_and(dips > 85, np.abs(shear_slip / shear_dip) > 5)\n",
    "    oblique_slip = np.logical_and(0.75 < np.abs(shear_slip / shear_dip), np.abs(shear_slip / shear_dip) < 1.5)\n",
    "    other = np.logical_not(np.logical_or(vert_ss, oblique_slip))\n",
    "\n",
    "    plt.figure()\n",
    "    plt.gca().set_aspect('equal')\n",
    "    plt.plot(normal[other], shear_mag[other], 'k.',\n",
    "             normal[oblique_slip], shear_mag[oblique_slip], 'go',\n",
    "             normal[vert_ss], shear_mag[vert_ss], 'ro'),\n",
    "    plt.xlabel('$\\sigma_n^{eff}$')\n",
    "    plt.ylabel('${\\tau}$');\n",
    "    plt.legend(['Other','Oblique-slip', 'Near vertical'],bbox_to_anchor=(1.05, 1), loc=2, borderaxespad=0.);\n",
    "    \n",
    "    \n",
    "create_plot(S, angles=(-70,0,0))"
   ]
  },
  {
   "cell_type": "markdown",
   "metadata": {
    "collapsed": false
   },
   "source": [
    "The plot above sort-of speaks for itself, there is no reason to describe in words the answers to the questions with a properly made figure."
   ]
  },
  {
   "cell_type": "markdown",
   "metadata": {},
   "source": [
    "# Problem 3 (10 points)\n",
    "\n",
    "Repeat Problem 2 but make $S_{hmin}=S_{Hmax}=45$ MPa (i.e. stress isotropic in the horizontal plane. How has the Mohr diagram changed? Is this still a 3D problem?\n",
    "\n",
    "**Solution**\n",
    "\n",
    "We can use our code above to quickly solve this problem by simply plugging in the new numbers."
   ]
  },
  {
   "cell_type": "code",
   "execution_count": 63,
   "metadata": {
    "collapsed": false
   },
   "outputs": [
    {
     "data": {
      "image/png": "[encoded data removed]",
      "text/plain": [
       "<matplotlib.figure.Figure at 0x106940e90>"
      ]
     },
     "metadata": {},
     "output_type": "display_data"
    }
   ],
   "source": [
    "S = np.diag([65, 45, 45])\n",
    "create_plot(S, angles=(0,-90,0))"
   ]
  },
  {
   "cell_type": "markdown",
   "metadata": {},
   "source": [
    "This problem is clearly 2D as it can be fully characterized by the two principle stresses."
   ]
  },
  {
   "cell_type": "markdown",
   "metadata": {},
   "source": [
    "#Problem 4 (10 points)\n",
    "\n",
    "a. Using a constitutive model for an isotropic elastic solid that relates strains to applied effective stresses corrected by Biot's coefficient, assume you have a sample in subsurface subjected to overburden, and that confinement in both horizontal principal directions is so large that the horizontal strains are nearly zero. Derive elastic equations for horizontal stresses (use the variables $x$ and $y$ for horizontal directions) in terms of vertical loading as a function of depth (in $z$ direction).\n",
    "\n",
    "**Solution**\n",
    "\n",
    "Hooke's law\n",
    "\n",
    "\\begin{align}\n",
    "\\sigma_{xx} = \\lambda (\\varepsilon_{xx} + \\varepsilon_{yy} + \\varepsilon_{zz}) + 2 \\mu \\varepsilon_{xx} \\\\\n",
    "\\sigma_{yy} = \\lambda (\\varepsilon_{xx} + \\varepsilon_{yy} + \\varepsilon_{zz}) + 2 \\mu \\varepsilon_{yy} \\\\\n",
    "\\sigma_{zz} = \\lambda (\\varepsilon_{xx} + \\varepsilon_{yy} + \\varepsilon_{zz}) + 2 \\mu \\varepsilon_{zz}\n",
    "\\end{align}\n",
    "\n",
    "Substituting the assumptions from the problem statement\n",
    "\n",
    "\\begin{align}\n",
    "\\sigma_{H} = \\lambda \\varepsilon_{v} \\\\\n",
    "\\sigma_{H} = \\lambda \\varepsilon_{v}  \\\\\n",
    "\\sigma_{v} = \\lambda \\varepsilon_{v} + 2 \\mu \\varepsilon_{v} = (\\lambda + 2 \\mu) \\varepsilon_v\n",
    "\\end{align}\n",
    "\n",
    "Solving the third equation for $\\varepsilon_{v}$\n",
    "\n",
    "$$\n",
    "\\varepsilon_v = \\frac{\\sigma_{v}}{(\\lambda + 2 \\mu)}\n",
    "$$\n",
    "\n",
    "Substituting into one of the others\n",
    "\n",
    "$$\n",
    "\\sigma_{H} = \\frac{\\lambda \\sigma_{v}}{(\\lambda + 2 \\mu)} \n",
    "$$\n",
    "\n",
    "and using the relationship \n",
    "\n",
    "$$\n",
    "\\lambda = \\frac{2 \\mu \\nu}{1 - 2 \\nu}\n",
    "$$\n",
    "\n",
    "and simplifying\n",
    "\n",
    "$$\n",
    "\\sigma_{H} = \\frac{\\nu \\sigma_{v}}{1-\\nu} = \\frac{\\nu \\bar{\\rho}g z}{1-\\nu}\n",
    "$$\n",
    "\n",
    "and using the Biot's effective stress relationship we have:\n",
    "\n",
    "$$\n",
    "S_{H} = \\frac{\\nu (S_{v} - \\alpha P_p)}{1-\\nu}  +  \\alpha P_p\n",
    "$$\n",
    "\n",
    "b. Assume you are at depth of $4$ km and the pore pressure at that depth is hydrostatic. Using the equations derived in a) above, Biot's parameter of $\\alpha=0.7$, and a Poisson’s ratio $\\nu=0.2$, estimate the horizontal stress magnitudes $S_{hmin}=S_{Hmax}$ at that depth. \n",
    "\n",
    "**Solution**\n",
    "\n",
    "\\begin{align}\n",
    "S_{H}  &= \\frac{0.2 (92 \\mbox{ MPa} - 0.7 \\cdot 40 \\mbox{ MPa})}{1 - 0.2}  +  0.7 \\cdot 40 \\mbox{ MPa} \\\\\n",
    "       &= 44 \\mbox{ MPa}\n",
    "\\end{align}"
   ]
  },
  {
   "cell_type": "markdown",
   "metadata": {},
   "source": [
    "#Problem 5 (30 points)\n",
    "\n",
    "Bernabe and Brace (1990) in their article \"Deformation and fracture of Berea Sandstone\" reported a number of triaxial test measurements for Berea sandstone, and some of them are given in the table below (all data in MPa).\n",
    "\n",
    "|$S_3$ (confining pressure) | $P_p$ (pore pressure) | $S_1-S_3$ (differential stress) |\n",
    "|---------------------------|-----------------------|---------------------------------|\n",
    "|10|0|116|\n",
    "|50|0|227|\n",
    "|20|8|119|\n",
    "|45|8|183|\n",
    "|60|8|206|\n",
    "|75|8|228|\n",
    "|50|37|120|\n",
    "|50|32|141|\n",
    "|90|64|161|\n",
    "|90|55|187|\n",
    "|130|96|186|\n",
    "|130|84|207|\n",
    "\n",
    "Fit this data to Mohr-Coulomb criterion to compute unconfined compressive strength $C_0$ and internal friction coefficient $\\mu_i$ for Berea sandstone.\n"
   ]
  },
  {
   "cell_type": "markdown",
   "metadata": {},
   "source": [
    "**Solution**\n",
    "\n",
    "First we create a curve fit and then use Eq. 4.5 from the book to find the internal friction and extrapolate $C_0$."
   ]
  },
  {
   "cell_type": "code",
   "execution_count": 80,
   "metadata": {
    "collapsed": false
   },
   "outputs": [
    {
     "data": {
      "image/png": "[encoded data removed]",
      "text/plain": [
       "<matplotlib.figure.Figure at 0x107321c10>"
      ]
     },
     "metadata": {},
     "output_type": "display_data"
    }
   ],
   "source": [
    "data = np.array([[10, 0, 116], [50, 0, 227], [20, 8, 119], [45, 8, 183], \n",
    "                 [60, 8, 206], [75, 8, 228], [50, 37, 120], [50, 32, 141],\n",
    "                 [90, 64, 161], [90, 55, 187], [130, 96, 186], [130, 84, 207]])\n",
    "\n",
    "S3_eff = data[:,0] - data[:,1]\n",
    "S1_eff = data[:,2] + data[:,0] - data[:,1]\n",
    "\n",
    "z = np.polyfit(S3_eff, S1_eff, 1)\n",
    "\n",
    "nfun = np.poly1d(z)\n",
    "\n",
    "line_x = np.linspace(0,70, num=100)\n",
    "line_y = nfun(line_x)\n",
    "\n",
    "plt.plot(S3_eff, S1_eff, 'ko', line_x, line_y, 'b-');\n",
    "plt.grid()\n",
    "plt.xlabel('$\\sigma_3^{eff}$ MPa')\n",
    "plt.ylabel('$\\sigma_1^{eff}$ MPa');"
   ]
  },
  {
   "cell_type": "code",
   "execution_count": 75,
   "metadata": {
    "collapsed": false
   },
   "outputs": [
    {
     "name": "stdout",
     "output_type": "stream",
     "text": [
      "100.080890436\n",
      "0.614932136531\n"
     ]
    }
   ],
   "source": [
    "print z[1]\n",
    "\n",
    "print (z[0] - 1) / 2 / np.sqrt(z[0])"
   ]
  },
  {
   "cell_type": "markdown",
   "metadata": {},
   "source": [
    "From the polynomial fit\n",
    "\n",
    "$C_0 = 100$ MPa\n",
    "\n",
    "and from the computation above\n",
    "\n",
    "$\\mu_I = 0.61$"
   ]
  }
 ],
 "metadata": {
  "kernelspec": {
   "display_name": "Python 2",
   "language": "python",
   "name": "python2"
  },
  "language_info": {
   "codemirror_mode": {
    "name": "ipython",
    "version": 2
   },
   "file_extension": ".py",
   "mimetype": "text/x-python",
   "name": "python",
   "nbconvert_exporter": "python",
   "pygments_lexer": "ipython2",
   "version": "2.7.9"
  }
 },
 "nbformat": 4,
 "nbformat_minor": 0
}
