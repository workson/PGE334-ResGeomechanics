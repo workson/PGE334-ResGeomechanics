{
 "metadata": {
  "kernelspec": {
   "display_name": "Python 3",
   "language": "python",
   "name": "python3"
  },
  "language_info": {
   "codemirror_mode": {
    "name": "ipython",
    "version": 3
   },
   "file_extension": ".py",
   "mimetype": "text/x-python",
   "name": "python",
   "nbconvert_exporter": "python",
   "pygments_lexer": "ipython3",
   "version": "3.4.0"
  },
  "name": "",
  "signature": "sha256:05dbdc8e2e9afb46225f466a14bae13c534e65ac1d0a1d445287f2f94cb078b2"
 },
 "nbformat": 3,
 "nbformat_minor": 0,
 "worksheets": [
  {
   "cells": [
    {
     "cell_type": "code",
     "collapsed": false,
     "input": [
      "import numpy as np\n",
      "\n",
      "\n",
      "def compute_Sg(S, angles=(0,0,0)):\n",
      "    \n",
      "    alpha, beta, gamma = np.radians(angles)\n",
      "    \n",
      "    Rg = np.array([[np.cos(alpha) * np.cos(beta),  \n",
      "                    np.sin(alpha) * np.cos(beta),  \n",
      "                    -np.sin(beta)],\n",
      "                   [np.cos(alpha) * np.sin(beta) * np.sin(gamma) - np.sin(alpha) * np.cos(gamma), \n",
      "                    np.sin(alpha) * np.sin(beta) * np.sin(gamma) + np.cos(alpha) * np.cos(gamma),  \n",
      "                    np.cos(beta) * np.sin(gamma)],\n",
      "                   [np.cos(alpha) * np.sin(beta) * np.cos(gamma) + np.sin(alpha) * np.sin(gamma), \n",
      "                    np.sin(alpha) * np.sin(beta) * np.cos(gamma) - np.cos(alpha) * np.sin(gamma),  \n",
      "                    np.cos(beta) * np.cos(gamma)]])\n",
      "                  \n",
      "    return np.dot(Rg.T, np.dot(S,Rg))\n",
      "\n",
      "\n",
      "def compute_Sb(S, angles_G=(0,0,0), angles_B=(0,0)):\n",
      "    \n",
      "    delta, phi = np.radians(angles_B)\n",
      "    \n",
      "    Rb = np.array([[ np.cos(delta) * np.cos(phi),  np.sin(delta) * np.cos(phi), -np.sin(phi)],\n",
      "                   [ -np.sin(delta), np.cos(delta),  0.0],\n",
      "                   [ np.cos(delta) * np.sin(phi), np.sin(delta) * np.sin(phi), np.cos(phi)]])\n",
      "    \n",
      "    Sg = compute_Sg(S, angles_G)\n",
      "    \n",
      "    return np.dot(Rb, np.dot(Sg,Rb.T))\n",
      "\n",
      "\n",
      "def compute_wellbore_stress(S, nu, theta, DP):\n",
      "    \n",
      "    theta = np.radians(theta)\n",
      "    \n",
      "    sZZ = (S[2,2] -  2. * nu * (S[0,0] - S[1,1]) * np.cos(2 * theta) - \n",
      "           4. * nu * S[0,1] * np.sin(2 * theta))\n",
      "    \n",
      "    stt = (S[0,0] + S[1,1] - 2. * (S[0,0] - S[1,1]) * np.cos(2 * theta) - \n",
      "           4 * S[0,1] * np.sin(2. * theta) - DP)\n",
      "    \n",
      "    ttz = 2. * (S[1,2] * np.cos(theta) - S[0,2] * np.sin(theta))\n",
      "    \n",
      "    srr = DP\n",
      "    \n",
      "    return (sZZ, stt, ttz, srr)\n",
      "\n",
      "\n",
      "def compute_max_tangent_stress(S, nu, theta, DP):\n",
      "    \n",
      "    sZZ, stt, ttz, srr = compute_wellbore_stress(S, nu, theta, DP)\n",
      "    \n",
      "    return 0.5 * (sZZ + stt + np.sqrt((sZZ + stt) ** 2. + 4.0 * ttz ** 2.))\n",
      "\n",
      "\n",
      "def compute_min_tangent_stress(S, nu, theta, DP):\n",
      "    \n",
      "    sZZ, stt, ttz, srr = compute_wellbore_stress(S, nu, theta, DP)\n",
      "    \n",
      "    return 0.5 * (sZZ + stt - np.sqrt((sZZ + stt) ** 2. + 4.0 * ttz ** 2.))"
     ],
     "language": "python",
     "metadata": {},
     "outputs": [],
     "prompt_number": 25
    },
    {
     "cell_type": "code",
     "collapsed": true,
     "input": [
      "S = np.array([[30, 0, 0],[0,25,0],[0,0,20]])\n",
      "\n",
      "Sb = compute_Sb(S, angles_G=(90,0,0), angles_B=(20,20))"
     ],
     "language": "python",
     "metadata": {},
     "outputs": [],
     "prompt_number": 26
    },
    {
     "cell_type": "code",
     "collapsed": false,
     "input": [
      "Sb"
     ],
     "language": "python",
     "metadata": {},
     "outputs": [
      {
       "metadata": {},
       "output_type": "pyout",
       "prompt_number": 27,
       "text": [
        "array([[ 24.931581  ,   1.51005693,   1.79494869],\n",
        "       [  1.51005693,  29.41511111,   0.54961578],\n",
        "       [  1.79494869,   0.54961578,  20.6533079 ]])"
       ]
      }
     ],
     "prompt_number": 27
    },
    {
     "cell_type": "code",
     "collapsed": true,
     "input": [
      "Sb_eff = Sb - 20 * np.eye(3)"
     ],
     "language": "python",
     "metadata": {},
     "outputs": [],
     "prompt_number": 28
    },
    {
     "cell_type": "code",
     "collapsed": true,
     "input": [
      "smin = compute_min_tangent_stress(Sb_eff, 0.2, 90.0, 20)"
     ],
     "language": "python",
     "metadata": {},
     "outputs": [],
     "prompt_number": 29
    },
    {
     "cell_type": "code",
     "collapsed": false,
     "input": [
      "smin"
     ],
     "language": "python",
     "metadata": {},
     "outputs": [
      {
       "metadata": {},
       "output_type": "pyout",
       "prompt_number": 30,
       "text": [
        "-16.53965209072955"
       ]
      }
     ],
     "prompt_number": 30
    },
    {
     "cell_type": "code",
     "collapsed": true,
     "input": [
      "smax = compute_max_tangent_stress(Sb_eff, 0.2, 90.0, 20)"
     ],
     "language": "python",
     "metadata": {},
     "outputs": [],
     "prompt_number": 31
    },
    {
     "cell_type": "code",
     "collapsed": false,
     "input": [
      "smax"
     ],
     "language": "python",
     "metadata": {},
     "outputs": [
      {
       "metadata": {},
       "output_type": "pyout",
       "prompt_number": 32,
       "text": [
        "0.77917982422916321"
       ]
      }
     ],
     "prompt_number": 32
    },
    {
     "cell_type": "code",
     "collapsed": true,
     "input": [
      "theta = np.linspace(0,360,num=100)"
     ],
     "language": "python",
     "metadata": {},
     "outputs": [],
     "prompt_number": 33
    },
    {
     "cell_type": "code",
     "collapsed": true,
     "input": [
      "smax = np.array([ compute_max_tangent_stress(Sb_eff, 0.2, i, 20) for i in theta])"
     ],
     "language": "python",
     "metadata": {},
     "outputs": [],
     "prompt_number": 34
    },
    {
     "cell_type": "code",
     "collapsed": false,
     "input": [
      "smax"
     ],
     "language": "python",
     "metadata": {},
     "outputs": [
      {
       "metadata": {},
       "output_type": "pyout",
       "prompt_number": 35,
       "text": [
        "array([ 5.96310334,  4.91023667,  3.70436763,  2.3634552 ,  0.90799291,\n",
        "        0.00896222,  0.04359723,  0.07731858,  0.11007371,  0.14211158,\n",
        "        0.17368345,  0.2050317 ,  0.23639374,  0.26800799,  0.30012063,\n",
        "        0.33299302,  0.36691014,  0.40219054,  0.43919868,  0.47836039,\n",
        "        0.52018318,  0.56528305,  0.61442095,  0.66855305,  0.7289013 ,\n",
        "        0.79705411,  0.87511205,  0.96590148,  1.07329016,  1.20265275,\n",
        "        1.36154316,  1.56060538,  1.81460422,  2.14297234,  2.56819489,\n",
        "        3.10926106,  3.76949514,  4.5260423 ,  5.33216118,  6.13125222,\n",
        "        6.87027818,  7.50584481,  8.00481364,  8.34291328,  8.50317262,\n",
        "        8.47470295,  8.25184431,  7.83357026,  7.22304903,  6.42728799,\n",
        "        5.45681457,  4.32536547,  3.04957081,  1.64865217,  0.1463888 ,\n",
        "        0.02632866,  0.06059262,  0.09380181,  0.12616638,  0.15794044,\n",
        "        0.18937064,  0.2206962 ,  0.25215422,  0.28398612,  0.3164447 ,\n",
        "        0.349802  ,  0.38435839,  0.42045368,  0.45848081,  0.49890356,\n",
        "        0.54227982,  0.58929277,  0.64079358,  0.69786091,  0.76188496,\n",
        "        0.8346884 ,  0.91870258,  1.01722704,  1.1348132 ,  1.27782633,\n",
        "        1.45523794,  1.67963031,  1.96811282,  2.34208617,  2.82350995,\n",
        "        3.42524341,  4.13822614,  4.92640101,  5.73609127,  6.51123547,\n",
        "        7.20329258,  7.77410909,  8.19518764,  8.44608454,  8.51299725,\n",
        "        8.3877393 ,  8.06703007,  7.55198873,  6.84774438,  5.96310334])"
       ]
      }
     ],
     "prompt_number": 35
    },
    {
     "cell_type": "code",
     "collapsed": false,
     "input": [
      "%matplotlib inline\n",
      "import matplotlib.pyplot as plt\n",
      "\n",
      "plt.plot(theta, smax)"
     ],
     "language": "python",
     "metadata": {},
     "outputs": [
      {
       "metadata": {},
       "output_type": "pyout",
       "prompt_number": 36,
       "text": [
        "[<matplotlib.lines.Line2D at 0x10a1c3d90>]"
       ]
      },
      {
       "metadata": {},
       "output_type": "display_data",
       "png": "[encoded data removed]",
       "text": [
        "<matplotlib.figure.Figure at 0x1081e0b50>"
       ]
      }
     ],
     "prompt_number": 36
    }
   ],
   "metadata": {}
  }
 ]
}